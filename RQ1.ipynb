{
 "cells": [
  {
   "cell_type": "code",
   "execution_count": 37,
   "id": "ecd390d4-59ef-488d-ba86-fe45b5607e1a",
   "metadata": {},
   "outputs": [],
   "source": [
    "import pymongo                            # Library to access MongoDB\n",
    "from pymongo import MongoClient           # Imports MongoClient \n",
    "import pandas as pd                       # Library to work with dataframes\n",
    "import folium                             # Library to create the map\n",
    "from folium import plugins                # plugin to create a heatmap\n",
    "import seaborn as sns\n",
    "import numpy as np\n",
    "from tqdm import tqdm\n",
    "import time\n",
    "%matplotlib inline\n",
    "import matplotlib.pyplot as plt\n",
    "import re\n",
    "import scipy"
   ]
  },
  {
   "cell_type": "code",
   "execution_count": 38,
   "id": "f43461bd-fda4-468d-a292-6c2fecda60cb",
   "metadata": {},
   "outputs": [],
   "source": [
    "# uri (uniform resource identifier) defines the connection parameters \n",
    "uri = 'mongodb://127.0.0.1:27017'\n",
    "# start client to connect to MongoDB server \n",
    "client = MongoClient( uri )\n",
    "db = client.JiraRepos"
   ]
  },
  {
   "cell_type": "markdown",
   "id": "fb2e12b9-0fcc-452f-95ed-3710fe700120",
   "metadata": {},
   "source": [
    "# Functions"
   ]
  },
  {
   "cell_type": "code",
   "execution_count": 39,
   "id": "4217f700-49ae-4779-91d2-8e4302b26ef1",
   "metadata": {},
   "outputs": [],
   "source": [
    "def lexicon_to_array():\n",
    "    lexicon = pd.read_csv('Harassment Lexicon.csv')\n",
    "    arr = lexicon.fillna('').astype(str).values.flatten().tolist()\n",
    "    # Ditch some words here with special characters.\n",
    "    return [i for i in arr if i and not re.search(\"[()*!?]\", i)]\n",
    "\n",
    "def lexicon_to_space_delimited():\n",
    "    return \" \".join(lexicon_to_array())"
   ]
  },
  {
   "cell_type": "code",
   "execution_count": 40,
   "id": "e634f6df-dad1-4d4f-8950-6e02964838b2",
   "metadata": {},
   "outputs": [
    {
     "name": "stderr",
     "output_type": "stream",
     "text": [
      "100%|██████████████████████████████████████████████████████████████████████████████████| 16/16 [02:38<00:00,  9.92s/it]\n"
     ]
    },
    {
     "data": {
      "text/html": [
       "<div>\n",
       "<style scoped>\n",
       "    .dataframe tbody tr th:only-of-type {\n",
       "        vertical-align: middle;\n",
       "    }\n",
       "\n",
       "    .dataframe tbody tr th {\n",
       "        vertical-align: top;\n",
       "    }\n",
       "\n",
       "    .dataframe thead th {\n",
       "        text-align: right;\n",
       "    }\n",
       "</style>\n",
       "<table border=\"1\" class=\"dataframe\">\n",
       "  <thead>\n",
       "    <tr style=\"text-align: right;\">\n",
       "      <th></th>\n",
       "      <th>_id</th>\n",
       "      <th>firstCommentDate</th>\n",
       "      <th>lastCommentDate</th>\n",
       "      <th>numComments</th>\n",
       "      <th>comments</th>\n",
       "      <th>activeness</th>\n",
       "      <th>numToxicComments</th>\n",
       "      <th>toxicity</th>\n",
       "    </tr>\n",
       "  </thead>\n",
       "  <tbody>\n",
       "    <tr>\n",
       "      <th>0</th>\n",
       "      <td>donald.anderson</td>\n",
       "      <td>2021-04-30 00:31:01</td>\n",
       "      <td>2022-01-11 21:32:31</td>\n",
       "      <td>91</td>\n",
       "      <td>[[~haribabu.kommi] I would be fine changing te...</td>\n",
       "      <td>4.100191e-09</td>\n",
       "      <td>34</td>\n",
       "      <td>0.373626</td>\n",
       "    </tr>\n",
       "    <tr>\n",
       "      <th>1</th>\n",
       "      <td>JIRAUSER1254368</td>\n",
       "      <td>2021-04-21 05:48:12</td>\n",
       "      <td>2022-01-10 05:00:08</td>\n",
       "      <td>58</td>\n",
       "      <td>[Need to do:\\r\\n # Perf testing\\r\\n # Workload...</td>\n",
       "      <td>2.543111e-09</td>\n",
       "      <td>4</td>\n",
       "      <td>0.068966</td>\n",
       "    </tr>\n",
       "    <tr>\n",
       "      <th>2</th>\n",
       "      <td>JIRAUSER1260306</td>\n",
       "      <td>2021-06-09 00:53:00</td>\n",
       "      <td>2022-01-11 08:12:00</td>\n",
       "      <td>86</td>\n",
       "      <td>[Again:\\r\\n\\r\\n[https://evergreen.mongodb.com/...</td>\n",
       "      <td>4.601701e-09</td>\n",
       "      <td>31</td>\n",
       "      <td>0.360465</td>\n",
       "    </tr>\n",
       "    <tr>\n",
       "      <th>3</th>\n",
       "      <td>gregory.wlodarek</td>\n",
       "      <td>2021-06-22 15:50:56</td>\n",
       "      <td>2021-11-04 00:45:11</td>\n",
       "      <td>6</td>\n",
       "      <td>[[~haribabu.kommi] I think that's an approach ...</td>\n",
       "      <td>5.168112e-10</td>\n",
       "      <td>2</td>\n",
       "      <td>0.333333</td>\n",
       "    </tr>\n",
       "    <tr>\n",
       "      <th>4</th>\n",
       "      <td>JIRAUSER1262781</td>\n",
       "      <td>2021-10-10 06:08:49</td>\n",
       "      <td>2021-10-11 09:06:31</td>\n",
       "      <td>4</td>\n",
       "      <td>[\\r\\n{noformat}\\r\\nmongod config\\r\\nprocessMan...</td>\n",
       "      <td>4.121077e-08</td>\n",
       "      <td>1</td>\n",
       "      <td>0.250000</td>\n",
       "    </tr>\n",
       "  </tbody>\n",
       "</table>\n",
       "</div>"
      ],
      "text/plain": [
       "                _id    firstCommentDate     lastCommentDate  numComments  \\\n",
       "0   donald.anderson 2021-04-30 00:31:01 2022-01-11 21:32:31           91   \n",
       "1   JIRAUSER1254368 2021-04-21 05:48:12 2022-01-10 05:00:08           58   \n",
       "2   JIRAUSER1260306 2021-06-09 00:53:00 2022-01-11 08:12:00           86   \n",
       "3  gregory.wlodarek 2021-06-22 15:50:56 2021-11-04 00:45:11            6   \n",
       "4   JIRAUSER1262781 2021-10-10 06:08:49 2021-10-11 09:06:31            4   \n",
       "\n",
       "                                            comments    activeness  \\\n",
       "0  [[~haribabu.kommi] I would be fine changing te...  4.100191e-09   \n",
       "1  [Need to do:\\r\\n # Perf testing\\r\\n # Workload...  2.543111e-09   \n",
       "2  [Again:\\r\\n\\r\\n[https://evergreen.mongodb.com/...  4.601701e-09   \n",
       "3  [[~haribabu.kommi] I think that's an approach ...  5.168112e-10   \n",
       "4  [\\r\\n{noformat}\\r\\nmongod config\\r\\nprocessMan...  4.121077e-08   \n",
       "\n",
       "   numToxicComments  toxicity  \n",
       "0                34  0.373626  \n",
       "1                 4  0.068966  \n",
       "2                31  0.360465  \n",
       "3                 2  0.333333  \n",
       "4                 1  0.250000  "
      ]
     },
     "execution_count": 40,
     "metadata": {},
     "output_type": "execute_result"
    }
   ],
   "source": [
    "def aggregate_to_df(collection):\n",
    "    cursor = collection.aggregate([\n",
    "#        { \"$sample\": { \"size\": 1000 } },\n",
    "        { \"$match\": { \"fields.comments\": { \"$exists\": True, \"$ne\": [] }}},\n",
    "        { \"$limit\": 1000 },\n",
    "        { \"$replaceWith\": { \"comments\": \"$fields.comments\" }},\n",
    "        { \"$unwind\": { \"path\": \"$comments\" }},\n",
    "        { \"$replaceRoot\": { \"newRoot\": \"$comments\" }},\n",
    "        { \"$group\": {\n",
    "            \"_id\": \"$author.key\",\n",
    "            \"firstCommentDate\": {\n",
    "                \"$min\": { \"$dateFromString\": { \"dateString\": \"$created\" } }\n",
    "            },\n",
    "            \"lastCommentDate\": {\n",
    "                \"$max\": { \"$dateFromString\": { \"dateString\": \"$created\" } }\n",
    "            },\n",
    "            \"numComments\": { \"$count\": {} },\n",
    "            \"comments\": { \"$addToSet\": \"$body\" }\n",
    "        }},\n",
    "        { \"$addFields\": {\n",
    "            \"activeness\": {\n",
    "                \"$cond\": [\n",
    "                    { \"$subtract\": [\"$lastCommentDate\", \"$firstCommentDate\"] },\n",
    "                    { \"$divide\": [\n",
    "                        \"$numComments\",\n",
    "                        { \"$subtract\": [\"$lastCommentDate\", \"$firstCommentDate\"] },\n",
    "                    ]},\n",
    "                    0\n",
    "                ]\n",
    "            },\n",
    "            \"numToxicComments\": {\n",
    "                \"$reduce\": {\n",
    "                    \"input\": \"$comments\",\n",
    "                    \"initialValue\": 0,\n",
    "                    \"in\": {\n",
    "                        \"$add\": [\"$$value\", {\n",
    "                            \"$toInt\": {\n",
    "                                \"$regexMatch\": {\n",
    "                                    \"input\": \"$$this\",\n",
    "                                    \"regex\": \"/\" + \"|\".join(lexicon_to_array()) + \"/\",\n",
    "                                    \"options\": \"i\"\n",
    "                                }\n",
    "                            }\n",
    "                        }]\n",
    "                    }\n",
    "                }\n",
    "            }\n",
    "        }}, { \"$addFields\": {\n",
    "            \"toxicity\": {\n",
    "                \"$divide\": [\"$numToxicComments\", \"$numComments\"]\n",
    "            }\n",
    "        }}\n",
    "    ])\n",
    "    df = pd.DataFrame(list(cursor))\n",
    "    return df\n",
    "\n",
    "merged_df = None\n",
    "\n",
    "collections = db.list_collection_names()\n",
    "progress_bar = tqdm(collections)\n",
    "for collection in progress_bar:\n",
    "    df = aggregate_to_df(db[collection])\n",
    "    if merged_df is None:\n",
    "        merged_df = df\n",
    "    else:\n",
    "        merged_df = pd.concat([merged_df, df], axis=0)\n",
    "\n",
    "merged_df.head()"
   ]
  },
  {
   "cell_type": "code",
   "execution_count": 41,
   "id": "f8d75701-788d-40e6-b907-98754d4f0762",
   "metadata": {},
   "outputs": [],
   "source": [
    "merged_df = merged_df.reset_index()"
   ]
  },
  {
   "cell_type": "code",
   "execution_count": 42,
   "id": "805397e3-d219-4e1e-931b-26bb401c0355",
   "metadata": {},
   "outputs": [
    {
     "name": "stdout",
     "output_type": "stream",
     "text": [
      "<class 'pandas.core.frame.DataFrame'>\n",
      "RangeIndex: 5404 entries, 0 to 5403\n",
      "Data columns (total 9 columns):\n",
      " #   Column            Non-Null Count  Dtype         \n",
      "---  ------            --------------  -----         \n",
      " 0   index             5404 non-null   int64         \n",
      " 1   _id               5401 non-null   object        \n",
      " 2   firstCommentDate  5404 non-null   datetime64[ns]\n",
      " 3   lastCommentDate   5404 non-null   datetime64[ns]\n",
      " 4   numComments       5404 non-null   int64         \n",
      " 5   comments          5404 non-null   object        \n",
      " 6   activeness        5404 non-null   float64       \n",
      " 7   numToxicComments  5404 non-null   int64         \n",
      " 8   toxicity          5404 non-null   float64       \n",
      "dtypes: datetime64[ns](2), float64(2), int64(3), object(2)\n",
      "memory usage: 380.1+ KB\n"
     ]
    }
   ],
   "source": [
    "merged_df.info()"
   ]
  },
  {
   "cell_type": "code",
   "execution_count": 43,
   "id": "8deb2d0e-ddf8-410a-99bb-80f79792945c",
   "metadata": {},
   "outputs": [
    {
     "name": "stderr",
     "output_type": "stream",
     "text": [
      "C:\\Users\\Pim\\AppData\\Local\\Temp/ipykernel_5912/4019863435.py:2: SettingWithCopyWarning: \n",
      "A value is trying to be set on a copy of a slice from a DataFrame.\n",
      "Try using .loc[row_indexer,col_indexer] = value instead\n",
      "\n",
      "See the caveats in the documentation: https://pandas.pydata.org/pandas-docs/stable/user_guide/indexing.html#returning-a-view-versus-a-copy\n",
      "  merged_df_adj[\"activeness_log\"] = np.log(merged_df_adj[\"activeness\"]);\n"
     ]
    }
   ],
   "source": [
    "merged_df_adj = merged_df[(merged_df[\"numComments\"] > 10) & (merged_df[\"activeness\"] < 0.51e-7)]\n",
    "merged_df_adj[\"activeness_log\"] = np.log(merged_df_adj[\"activeness\"]);"
   ]
  },
  {
   "cell_type": "code",
   "execution_count": 44,
   "id": "fe4a8929-387c-4ba1-80b0-147503736ad9",
   "metadata": {},
   "outputs": [
    {
     "data": {
      "text/html": [
       "<div>\n",
       "<style scoped>\n",
       "    .dataframe tbody tr th:only-of-type {\n",
       "        vertical-align: middle;\n",
       "    }\n",
       "\n",
       "    .dataframe tbody tr th {\n",
       "        vertical-align: top;\n",
       "    }\n",
       "\n",
       "    .dataframe thead th {\n",
       "        text-align: right;\n",
       "    }\n",
       "</style>\n",
       "<table border=\"1\" class=\"dataframe\">\n",
       "  <thead>\n",
       "    <tr style=\"text-align: right;\">\n",
       "      <th></th>\n",
       "      <th>index</th>\n",
       "      <th>_id</th>\n",
       "      <th>firstCommentDate</th>\n",
       "      <th>lastCommentDate</th>\n",
       "      <th>numComments</th>\n",
       "      <th>comments</th>\n",
       "      <th>activeness</th>\n",
       "      <th>numToxicComments</th>\n",
       "      <th>toxicity</th>\n",
       "    </tr>\n",
       "  </thead>\n",
       "  <tbody>\n",
       "    <tr>\n",
       "      <th>36</th>\n",
       "      <td>36</td>\n",
       "      <td>JIRAUSER1259052</td>\n",
       "      <td>2021-10-06 16:06:22.000</td>\n",
       "      <td>2021-10-06 16:17:18.000</td>\n",
       "      <td>294</td>\n",
       "      <td>[Updating the fixversion since branching activ...</td>\n",
       "      <td>4.481707e-04</td>\n",
       "      <td>1</td>\n",
       "      <td>0.003401</td>\n",
       "    </tr>\n",
       "    <tr>\n",
       "      <th>61</th>\n",
       "      <td>61</td>\n",
       "      <td>xgen-internal-githook</td>\n",
       "      <td>2021-04-22 00:06:08.000</td>\n",
       "      <td>2022-01-11 05:53:08.000</td>\n",
       "      <td>3246</td>\n",
       "      <td>[Author:{'name': 'sueloverso', 'email': 'sue@m...</td>\n",
       "      <td>1.421787e-07</td>\n",
       "      <td>2431</td>\n",
       "      <td>0.748922</td>\n",
       "    </tr>\n",
       "    <tr>\n",
       "      <th>1492</th>\n",
       "      <td>1057</td>\n",
       "      <td>JIRAUSER4589831</td>\n",
       "      <td>2020-10-30 10:45:25.141</td>\n",
       "      <td>2020-11-20 13:02:51.616</td>\n",
       "      <td>95</td>\n",
       "      <td>[Cannot reproduce on 3.3.9 version, suggest to...</td>\n",
       "      <td>5.212201e-08</td>\n",
       "      <td>4</td>\n",
       "      <td>0.042105</td>\n",
       "    </tr>\n",
       "    <tr>\n",
       "      <th>2109</th>\n",
       "      <td>425</td>\n",
       "      <td>tero.kojo</td>\n",
       "      <td>2014-01-29 09:58:17.000</td>\n",
       "      <td>2014-02-04 12:13:32.000</td>\n",
       "      <td>42</td>\n",
       "      <td>[Cleaning old bugs.\\n\\nThis seems to point to ...</td>\n",
       "      <td>7.976981e-08</td>\n",
       "      <td>6</td>\n",
       "      <td>0.142857</td>\n",
       "    </tr>\n",
       "    <tr>\n",
       "      <th>2694</th>\n",
       "      <td>64</td>\n",
       "      <td>JIRAUSER113187</td>\n",
       "      <td>2021-12-13 18:36:53.099</td>\n",
       "      <td>2022-01-11 16:46:13.992</td>\n",
       "      <td>381</td>\n",
       "      <td>[Yes, please try again., Permissions granted t...</td>\n",
       "      <td>1.524634e-07</td>\n",
       "      <td>63</td>\n",
       "      <td>0.165354</td>\n",
       "    </tr>\n",
       "  </tbody>\n",
       "</table>\n",
       "</div>"
      ],
      "text/plain": [
       "      index                    _id        firstCommentDate  \\\n",
       "36       36        JIRAUSER1259052 2021-10-06 16:06:22.000   \n",
       "61       61  xgen-internal-githook 2021-04-22 00:06:08.000   \n",
       "1492   1057        JIRAUSER4589831 2020-10-30 10:45:25.141   \n",
       "2109    425              tero.kojo 2014-01-29 09:58:17.000   \n",
       "2694     64         JIRAUSER113187 2021-12-13 18:36:53.099   \n",
       "\n",
       "             lastCommentDate  numComments  \\\n",
       "36   2021-10-06 16:17:18.000          294   \n",
       "61   2022-01-11 05:53:08.000         3246   \n",
       "1492 2020-11-20 13:02:51.616           95   \n",
       "2109 2014-02-04 12:13:32.000           42   \n",
       "2694 2022-01-11 16:46:13.992          381   \n",
       "\n",
       "                                               comments    activeness  \\\n",
       "36    [Updating the fixversion since branching activ...  4.481707e-04   \n",
       "61    [Author:{'name': 'sueloverso', 'email': 'sue@m...  1.421787e-07   \n",
       "1492  [Cannot reproduce on 3.3.9 version, suggest to...  5.212201e-08   \n",
       "2109  [Cleaning old bugs.\\n\\nThis seems to point to ...  7.976981e-08   \n",
       "2694  [Yes, please try again., Permissions granted t...  1.524634e-07   \n",
       "\n",
       "      numToxicComments  toxicity  \n",
       "36                   1  0.003401  \n",
       "61                2431  0.748922  \n",
       "1492                 4  0.042105  \n",
       "2109                 6  0.142857  \n",
       "2694                63  0.165354  "
      ]
     },
     "execution_count": 44,
     "metadata": {},
     "output_type": "execute_result"
    }
   ],
   "source": [
    "merged_df_adj_tst = merged_df[(merged_df[\"numComments\"] > 10) & (merged_df[\"activeness\"] > 0.51e-7)]\n",
    "merged_df_adj_tst.head()"
   ]
  },
  {
   "cell_type": "code",
   "execution_count": 45,
   "id": "72e14620-dbcc-4a86-a13f-942a9a27dc59",
   "metadata": {},
   "outputs": [
    {
     "data": {
      "image/png": "[encoded data removed]",
      "text/plain": [
       "<Figure size 432x288 with 2 Axes>"
      ]
     },
     "metadata": {
      "needs_background": "light"
     },
     "output_type": "display_data"
    }
   ],
   "source": [
    "fig, ax = plt.subplots(1, 2)\n",
    "sns.histplot(merged_df_adj, x=\"activeness\", bins=100, ax=ax[0])\n",
    "sns.histplot(merged_df_adj, x=\"toxicity\", ax=ax[1]);\n",
    "ax[1].set(ylabel=\"\")\n",
    "plt.subplots_adjust(wspace=0.3)"
   ]
  },
  {
   "cell_type": "code",
   "execution_count": 46,
   "id": "803db688-b353-4ca7-ba36-c2b4c13db618",
   "metadata": {},
   "outputs": [
    {
     "data": {
      "image/png": "[encoded data removed]",
      "text/plain": [
       "<Figure size 432x288 with 1 Axes>"
      ]
     },
     "metadata": {
      "needs_background": "light"
     },
     "output_type": "display_data"
    }
   ],
   "source": [
    "ax = sns.regplot(data=merged_df_adj, x=\"activeness_log\", y=\"toxicity\", order=1);\n",
    "ax.set(xlabel=\"log activeness\");"
   ]
  },
  {
   "cell_type": "code",
   "execution_count": 47,
   "id": "9f23010c-f782-488f-93cd-e8d3a3a4858e",
   "metadata": {},
   "outputs": [
    {
     "data": {
      "text/plain": [
       "<seaborn.axisgrid.JointGrid at 0x2010a25c490>"
      ]
     },
     "execution_count": 47,
     "metadata": {},
     "output_type": "execute_result"
    },
    {
     "data": {
      "image/png": "[encoded data removed]",
      "text/plain": [
       "<Figure size 432x432 with 3 Axes>"
      ]
     },
     "metadata": {
      "needs_background": "light"
     },
     "output_type": "display_data"
    }
   ],
   "source": [
    "g = sns.jointplot(data=merged_df_adj, x=\"activeness_log\", y=\"toxicity\", kind=\"hex\");\n",
    "g.plot_joint(sns.regplot, scatter=False)"
   ]
  },
  {
   "cell_type": "code",
   "execution_count": 48,
   "id": "35a1a7a3-8a59-4802-aba4-a9929b96fe72",
   "metadata": {},
   "outputs": [
    {
     "data": {
      "text/plain": [
       "(-0.10718871738274817, 0.04477078668189245)"
      ]
     },
     "execution_count": 48,
     "metadata": {},
     "output_type": "execute_result"
    }
   ],
   "source": [
    "scipy.stats.pearsonr(merged_df_adj[\"activeness_log\"], merged_df_adj[\"toxicity\"])"
   ]
  }
 ],
 "metadata": {
  "kernelspec": {
   "display_name": "Python 3 (ipykernel)",
   "language": "python",
   "name": "python3"
  },
  "language_info": {
   "codemirror_mode": {
    "name": "ipython",
    "version": 3
   },
   "file_extension": ".py",
   "mimetype": "text/x-python",
   "name": "python",
   "nbconvert_exporter": "python",
   "pygments_lexer": "ipython3",
   "version": "3.9.15"
  }
 },
 "nbformat": 4,
 "nbformat_minor": 5
}
