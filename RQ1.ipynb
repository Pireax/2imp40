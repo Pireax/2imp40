{
 "cells": [
  {
   "cell_type": "code",
   "execution_count": 75,
   "id": "ecd390d4-59ef-488d-ba86-fe45b5607e1a",
   "metadata": {},
   "outputs": [],
   "source": [
    "import pymongo                            # Library to access MongoDB\n",
    "from pymongo import MongoClient           # Imports MongoClient \n",
    "import pandas as pd                       # Library to work with dataframes\n",
    "import folium                             # Library to create the map\n",
    "from folium import plugins                # plugin to create a heatmap\n",
    "import seaborn as sns\n",
    "import numpy as np\n",
    "from tqdm import tqdm\n",
    "import time\n",
    "%matplotlib inline\n",
    "import matplotlib.pyplot as plt\n",
    "import re"
   ]
  },
  {
   "cell_type": "code",
   "execution_count": 3,
   "id": "f43461bd-fda4-468d-a292-6c2fecda60cb",
   "metadata": {},
   "outputs": [],
   "source": [
    "# uri (uniform resource identifier) defines the connection parameters \n",
    "uri = 'mongodb://127.0.0.1:27017'\n",
    "# start client to connect to MongoDB server \n",
    "client = MongoClient( uri )\n",
    "db = client.JiraRepos"
   ]
  },
  {
   "cell_type": "markdown",
   "id": "fb2e12b9-0fcc-452f-95ed-3710fe700120",
   "metadata": {},
   "source": [
    "# Functions"
   ]
  },
  {
   "cell_type": "code",
   "execution_count": 4,
   "id": "4217f700-49ae-4779-91d2-8e4302b26ef1",
   "metadata": {},
   "outputs": [],
   "source": [
    "def lexicon_to_array():\n",
    "    lexicon = pd.read_csv('Harassment Lexicon.csv')\n",
    "    arr = lexicon.fillna('').astype(str).values.flatten().tolist()\n",
    "    # Ditch some words here with special characters.\n",
    "    return [i for i in arr if i and not re.search(\"[()*!?]\", i)]\n",
    "\n",
    "def lexicon_to_space_delimited():\n",
    "    return \" \".join(lexicon_to_array())"
   ]
  },
  {
   "cell_type": "code",
   "execution_count": 62,
   "id": "e634f6df-dad1-4d4f-8950-6e02964838b2",
   "metadata": {},
   "outputs": [
    {
     "name": "stderr",
     "output_type": "stream",
     "text": [
      "100%|██████████████████████████████████████████████████████████████████████████████████| 16/16 [02:29<00:00,  9.35s/it]\n"
     ]
    },
    {
     "data": {
      "text/html": [
       "<div>\n",
       "<style scoped>\n",
       "    .dataframe tbody tr th:only-of-type {\n",
       "        vertical-align: middle;\n",
       "    }\n",
       "\n",
       "    .dataframe tbody tr th {\n",
       "        vertical-align: top;\n",
       "    }\n",
       "\n",
       "    .dataframe thead th {\n",
       "        text-align: right;\n",
       "    }\n",
       "</style>\n",
       "<table border=\"1\" class=\"dataframe\">\n",
       "  <thead>\n",
       "    <tr style=\"text-align: right;\">\n",
       "      <th></th>\n",
       "      <th>_id</th>\n",
       "      <th>firstCommentDate</th>\n",
       "      <th>lastCommentDate</th>\n",
       "      <th>numComments</th>\n",
       "      <th>comments</th>\n",
       "      <th>activeness</th>\n",
       "      <th>numToxicComments</th>\n",
       "      <th>toxicity</th>\n",
       "    </tr>\n",
       "  </thead>\n",
       "  <tbody>\n",
       "    <tr>\n",
       "      <th>0</th>\n",
       "      <td>haribabu.kommi</td>\n",
       "      <td>2021-04-21 13:11:04</td>\n",
       "      <td>2022-01-07 05:02:19</td>\n",
       "      <td>185</td>\n",
       "      <td>[Hit again:\\r\\nhttps://evergreen.mongodb.com/t...</td>\n",
       "      <td>8.214528e-09</td>\n",
       "      <td>76</td>\n",
       "      <td>0.410811</td>\n",
       "    </tr>\n",
       "    <tr>\n",
       "      <th>1</th>\n",
       "      <td>dan@10gen.com</td>\n",
       "      <td>2021-07-07 16:01:33</td>\n",
       "      <td>2021-07-07 16:01:33</td>\n",
       "      <td>1</td>\n",
       "      <td>[does not appear on the surface to warrant a r...</td>\n",
       "      <td>0.000000e+00</td>\n",
       "      <td>0</td>\n",
       "      <td>0.000000</td>\n",
       "    </tr>\n",
       "    <tr>\n",
       "      <th>2</th>\n",
       "      <td>JIRAUSER1260529</td>\n",
       "      <td>2021-07-28 13:39:24</td>\n",
       "      <td>2021-07-28 13:39:24</td>\n",
       "      <td>1</td>\n",
       "      <td>[Hi [~keith.bostic],\\r\\n\\r\\nThanks for your re...</td>\n",
       "      <td>0.000000e+00</td>\n",
       "      <td>1</td>\n",
       "      <td>1.000000</td>\n",
       "    </tr>\n",
       "    <tr>\n",
       "      <th>3</th>\n",
       "      <td>luke.pearson</td>\n",
       "      <td>2021-05-03 02:35:46</td>\n",
       "      <td>2022-01-07 01:59:24</td>\n",
       "      <td>252</td>\n",
       "      <td>[These failures are proving to be relatively d...</td>\n",
       "      <td>1.171471e-08</td>\n",
       "      <td>90</td>\n",
       "      <td>0.357143</td>\n",
       "    </tr>\n",
       "    <tr>\n",
       "      <th>4</th>\n",
       "      <td>louis.williams</td>\n",
       "      <td>2021-04-21 14:59:54</td>\n",
       "      <td>2022-01-04 12:07:07</td>\n",
       "      <td>33</td>\n",
       "      <td>[Hey [~chenhao.qu], apologies for the delay. I...</td>\n",
       "      <td>1.481094e-09</td>\n",
       "      <td>10</td>\n",
       "      <td>0.303030</td>\n",
       "    </tr>\n",
       "  </tbody>\n",
       "</table>\n",
       "</div>"
      ],
      "text/plain": [
       "               _id    firstCommentDate     lastCommentDate  numComments  \\\n",
       "0   haribabu.kommi 2021-04-21 13:11:04 2022-01-07 05:02:19          185   \n",
       "1    dan@10gen.com 2021-07-07 16:01:33 2021-07-07 16:01:33            1   \n",
       "2  JIRAUSER1260529 2021-07-28 13:39:24 2021-07-28 13:39:24            1   \n",
       "3     luke.pearson 2021-05-03 02:35:46 2022-01-07 01:59:24          252   \n",
       "4   louis.williams 2021-04-21 14:59:54 2022-01-04 12:07:07           33   \n",
       "\n",
       "                                            comments    activeness  \\\n",
       "0  [Hit again:\\r\\nhttps://evergreen.mongodb.com/t...  8.214528e-09   \n",
       "1  [does not appear on the surface to warrant a r...  0.000000e+00   \n",
       "2  [Hi [~keith.bostic],\\r\\n\\r\\nThanks for your re...  0.000000e+00   \n",
       "3  [These failures are proving to be relatively d...  1.171471e-08   \n",
       "4  [Hey [~chenhao.qu], apologies for the delay. I...  1.481094e-09   \n",
       "\n",
       "   numToxicComments  toxicity  \n",
       "0                76  0.410811  \n",
       "1                 0  0.000000  \n",
       "2                 1  1.000000  \n",
       "3                90  0.357143  \n",
       "4                10  0.303030  "
      ]
     },
     "execution_count": 62,
     "metadata": {},
     "output_type": "execute_result"
    }
   ],
   "source": [
    "def aggregate_to_df(collection):\n",
    "    cursor = collection.aggregate([\n",
    "#        { \"$sample\": { \"size\": 1000 } },\n",
    "        { \"$match\": { \"fields.comments\": { \"$exists\": True, \"$ne\": [] }}},\n",
    "        { \"$limit\": 1000 },\n",
    "        { \"$replaceWith\": { \"comments\": \"$fields.comments\" }},\n",
    "        { \"$unwind\": { \"path\": \"$comments\" }},\n",
    "        { \"$replaceRoot\": { \"newRoot\": \"$comments\" }},\n",
    "        { \"$group\": {\n",
    "            \"_id\": \"$author.key\",\n",
    "            \"firstCommentDate\": {\n",
    "                \"$min\": { \"$dateFromString\": { \"dateString\": \"$created\" } }\n",
    "            },\n",
    "            \"lastCommentDate\": {\n",
    "                \"$max\": { \"$dateFromString\": { \"dateString\": \"$created\" } }\n",
    "            },\n",
    "            \"numComments\": { \"$count\": {} },\n",
    "            \"comments\": { \"$addToSet\": \"$body\" }\n",
    "        }},\n",
    "        { \"$addFields\": {\n",
    "            \"activeness\": {\n",
    "                \"$cond\": [\n",
    "                    { \"$subtract\": [\"$lastCommentDate\", \"$firstCommentDate\"] },\n",
    "                    { \"$divide\": [\n",
    "                        \"$numComments\",\n",
    "                        { \"$subtract\": [\"$lastCommentDate\", \"$firstCommentDate\"] },\n",
    "                    ]},\n",
    "                    0\n",
    "                ]\n",
    "            },\n",
    "            \"numToxicComments\": {\n",
    "                \"$reduce\": {\n",
    "                    \"input\": \"$comments\",\n",
    "                    \"initialValue\": 0,\n",
    "                    \"in\": {\n",
    "                        \"$add\": [\"$$value\", {\n",
    "                            \"$toInt\": {\n",
    "                                \"$regexMatch\": {\n",
    "                                    \"input\": \"$$this\",\n",
    "                                    \"regex\": \"/\" + \"|\".join(lexicon_to_array()) + \"/\",\n",
    "                                    \"options\": \"i\"\n",
    "                                }\n",
    "                            }\n",
    "                        }]\n",
    "                    }\n",
    "                }\n",
    "            }\n",
    "        }}, { \"$addFields\": {\n",
    "            \"toxicity\": {\n",
    "                \"$divide\": [\"$numToxicComments\", \"$numComments\"]\n",
    "            }\n",
    "        }}\n",
    "    ])\n",
    "    df = pd.DataFrame(list(cursor))\n",
    "    return df\n",
    "\n",
    "merged_df = None\n",
    "\n",
    "collections = db.list_collection_names()\n",
    "progress_bar = tqdm(collections)\n",
    "for collection in progress_bar:\n",
    "    df = aggregate_to_df(db[collection])\n",
    "    if merged_df is None:\n",
    "        merged_df = df\n",
    "    else:\n",
    "        merged_df = pd.concat([merged_df, df], axis=0)\n",
    "\n",
    "merged_df.head()"
   ]
  },
  {
   "cell_type": "code",
   "execution_count": 63,
   "id": "f8d75701-788d-40e6-b907-98754d4f0762",
   "metadata": {},
   "outputs": [],
   "source": [
    "merged_df = merged_df.reset_index()"
   ]
  },
  {
   "cell_type": "code",
   "execution_count": 64,
   "id": "805397e3-d219-4e1e-931b-26bb401c0355",
   "metadata": {},
   "outputs": [
    {
     "name": "stdout",
     "output_type": "stream",
     "text": [
      "<class 'pandas.core.frame.DataFrame'>\n",
      "RangeIndex: 5404 entries, 0 to 5403\n",
      "Data columns (total 9 columns):\n",
      " #   Column            Non-Null Count  Dtype         \n",
      "---  ------            --------------  -----         \n",
      " 0   index             5404 non-null   int64         \n",
      " 1   _id               5401 non-null   object        \n",
      " 2   firstCommentDate  5404 non-null   datetime64[ns]\n",
      " 3   lastCommentDate   5404 non-null   datetime64[ns]\n",
      " 4   numComments       5404 non-null   int64         \n",
      " 5   comments          5404 non-null   object        \n",
      " 6   activeness        5404 non-null   float64       \n",
      " 7   numToxicComments  5404 non-null   int64         \n",
      " 8   toxicity          5404 non-null   float64       \n",
      "dtypes: datetime64[ns](2), float64(2), int64(3), object(2)\n",
      "memory usage: 380.1+ KB\n"
     ]
    }
   ],
   "source": [
    "merged_df.info()"
   ]
  },
  {
   "cell_type": "code",
   "execution_count": 83,
   "id": "8deb2d0e-ddf8-410a-99bb-80f79792945c",
   "metadata": {},
   "outputs": [
    {
     "name": "stderr",
     "output_type": "stream",
     "text": [
      "C:\\Users\\Pim\\AppData\\Local\\Temp/ipykernel_11544/4019863435.py:2: SettingWithCopyWarning: \n",
      "A value is trying to be set on a copy of a slice from a DataFrame.\n",
      "Try using .loc[row_indexer,col_indexer] = value instead\n",
      "\n",
      "See the caveats in the documentation: https://pandas.pydata.org/pandas-docs/stable/user_guide/indexing.html#returning-a-view-versus-a-copy\n",
      "  merged_df_adj[\"activeness_log\"] = np.log(merged_df_adj[\"activeness\"]);\n"
     ]
    }
   ],
   "source": [
    "merged_df_adj = merged_df[(merged_df[\"numComments\"] > 10) & (merged_df[\"activeness\"] < 0.51e-7)]\n",
    "merged_df_adj[\"activeness_log\"] = np.log(merged_df_adj[\"activeness\"]);"
   ]
  },
  {
   "cell_type": "code",
   "execution_count": 80,
   "id": "fe4a8929-387c-4ba1-80b0-147503736ad9",
   "metadata": {},
   "outputs": [
    {
     "data": {
      "text/html": [
       "<div>\n",
       "<style scoped>\n",
       "    .dataframe tbody tr th:only-of-type {\n",
       "        vertical-align: middle;\n",
       "    }\n",
       "\n",
       "    .dataframe tbody tr th {\n",
       "        vertical-align: top;\n",
       "    }\n",
       "\n",
       "    .dataframe thead th {\n",
       "        text-align: right;\n",
       "    }\n",
       "</style>\n",
       "<table border=\"1\" class=\"dataframe\">\n",
       "  <thead>\n",
       "    <tr style=\"text-align: right;\">\n",
       "      <th></th>\n",
       "      <th>index</th>\n",
       "      <th>_id</th>\n",
       "      <th>firstCommentDate</th>\n",
       "      <th>lastCommentDate</th>\n",
       "      <th>numComments</th>\n",
       "      <th>comments</th>\n",
       "      <th>activeness</th>\n",
       "      <th>numToxicComments</th>\n",
       "      <th>toxicity</th>\n",
       "    </tr>\n",
       "  </thead>\n",
       "  <tbody>\n",
       "    <tr>\n",
       "      <th>18</th>\n",
       "      <td>18</td>\n",
       "      <td>xgen-internal-githook</td>\n",
       "      <td>2021-04-22 00:06:08.000</td>\n",
       "      <td>2022-01-11 05:53:08.000</td>\n",
       "      <td>3246</td>\n",
       "      <td>[Author:{'name': 'Alexey Anisimov', 'email': '...</td>\n",
       "      <td>1.421787e-07</td>\n",
       "      <td>2431</td>\n",
       "      <td>0.748922</td>\n",
       "    </tr>\n",
       "    <tr>\n",
       "      <th>68</th>\n",
       "      <td>68</td>\n",
       "      <td>JIRAUSER1259052</td>\n",
       "      <td>2021-10-06 16:06:22.000</td>\n",
       "      <td>2021-10-06 16:17:18.000</td>\n",
       "      <td>294</td>\n",
       "      <td>[Updating the fixversion since branching activ...</td>\n",
       "      <td>4.481707e-04</td>\n",
       "      <td>1</td>\n",
       "      <td>0.003401</td>\n",
       "    </tr>\n",
       "    <tr>\n",
       "      <th>988</th>\n",
       "      <td>553</td>\n",
       "      <td>JIRAUSER4589831</td>\n",
       "      <td>2020-10-30 10:45:25.141</td>\n",
       "      <td>2020-11-20 13:02:51.616</td>\n",
       "      <td>95</td>\n",
       "      <td>[Cannot Reproduce on 3.3.9,, Hello, could you ...</td>\n",
       "      <td>5.212201e-08</td>\n",
       "      <td>4</td>\n",
       "      <td>0.042105</td>\n",
       "    </tr>\n",
       "    <tr>\n",
       "      <th>2056</th>\n",
       "      <td>372</td>\n",
       "      <td>tero.kojo</td>\n",
       "      <td>2014-01-29 09:58:17.000</td>\n",
       "      <td>2014-02-04 12:13:32.000</td>\n",
       "      <td>42</td>\n",
       "      <td>[This feature is nice to have, but not a reali...</td>\n",
       "      <td>7.976981e-08</td>\n",
       "      <td>6</td>\n",
       "      <td>0.142857</td>\n",
       "    </tr>\n",
       "    <tr>\n",
       "      <th>2633</th>\n",
       "      <td>3</td>\n",
       "      <td>jorlina</td>\n",
       "      <td>2021-12-09 16:25:29.901</td>\n",
       "      <td>2022-01-12 15:45:00.910</td>\n",
       "      <td>407</td>\n",
       "      <td>[The issue is related to extraordinary load on...</td>\n",
       "      <td>1.386631e-07</td>\n",
       "      <td>86</td>\n",
       "      <td>0.211302</td>\n",
       "    </tr>\n",
       "  </tbody>\n",
       "</table>\n",
       "</div>"
      ],
      "text/plain": [
       "      index                    _id        firstCommentDate  \\\n",
       "18       18  xgen-internal-githook 2021-04-22 00:06:08.000   \n",
       "68       68        JIRAUSER1259052 2021-10-06 16:06:22.000   \n",
       "988     553        JIRAUSER4589831 2020-10-30 10:45:25.141   \n",
       "2056    372              tero.kojo 2014-01-29 09:58:17.000   \n",
       "2633      3                jorlina 2021-12-09 16:25:29.901   \n",
       "\n",
       "             lastCommentDate  numComments  \\\n",
       "18   2022-01-11 05:53:08.000         3246   \n",
       "68   2021-10-06 16:17:18.000          294   \n",
       "988  2020-11-20 13:02:51.616           95   \n",
       "2056 2014-02-04 12:13:32.000           42   \n",
       "2633 2022-01-12 15:45:00.910          407   \n",
       "\n",
       "                                               comments    activeness  \\\n",
       "18    [Author:{'name': 'Alexey Anisimov', 'email': '...  1.421787e-07   \n",
       "68    [Updating the fixversion since branching activ...  4.481707e-04   \n",
       "988   [Cannot Reproduce on 3.3.9,, Hello, could you ...  5.212201e-08   \n",
       "2056  [This feature is nice to have, but not a reali...  7.976981e-08   \n",
       "2633  [The issue is related to extraordinary load on...  1.386631e-07   \n",
       "\n",
       "      numToxicComments  toxicity  \n",
       "18                2431  0.748922  \n",
       "68                   1  0.003401  \n",
       "988                  4  0.042105  \n",
       "2056                 6  0.142857  \n",
       "2633                86  0.211302  "
      ]
     },
     "execution_count": 80,
     "metadata": {},
     "output_type": "execute_result"
    }
   ],
   "source": [
    "merged_df_adj_tst = merged_df[(merged_df[\"numComments\"] > 10) & (merged_df[\"activeness\"] > 0.51e-7)]\n",
    "merged_df_adj_tst.head()"
   ]
  },
  {
   "cell_type": "code",
   "execution_count": 86,
   "id": "72e14620-dbcc-4a86-a13f-942a9a27dc59",
   "metadata": {},
   "outputs": [
    {
     "data": {
      "image/png": "[encoded data removed]",
      "text/plain": [
       "<Figure size 432x288 with 2 Axes>"
      ]
     },
     "metadata": {
      "needs_background": "light"
     },
     "output_type": "display_data"
    }
   ],
   "source": [
    "fig, ax = plt.subplots(1, 2)\n",
    "sns.histplot(merged_df_adj, x=\"activeness\", bins=100, ax=ax[0])\n",
    "sns.histplot(merged_df_adj, x=\"toxicity\", ax=ax[1]);"
   ]
  },
  {
   "cell_type": "code",
   "execution_count": 89,
   "id": "803db688-b353-4ca7-ba36-c2b4c13db618",
   "metadata": {},
   "outputs": [
    {
     "data": {
      "image/png": "[encoded data removed]",
      "text/plain": [
       "<Figure size 432x288 with 1 Axes>"
      ]
     },
     "metadata": {
      "needs_background": "light"
     },
     "output_type": "display_data"
    }
   ],
   "source": [
    "sns.scatterplot(data=merged_df_adj, x=\"activeness_log\", y=\"toxicity\");"
   ]
  }
 ],
 "metadata": {
  "kernelspec": {
   "display_name": "Python 3 (ipykernel)",
   "language": "python",
   "name": "python3"
  },
  "language_info": {
   "codemirror_mode": {
    "name": "ipython",
    "version": 3
   },
   "file_extension": ".py",
   "mimetype": "text/x-python",
   "name": "python",
   "nbconvert_exporter": "python",
   "pygments_lexer": "ipython3",
   "version": "3.9.15"
  }
 },
 "nbformat": 4,
 "nbformat_minor": 5
}
