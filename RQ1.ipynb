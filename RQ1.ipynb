{
 "cells": [
  {
   "cell_type": "code",
   "execution_count": 1,
   "id": "ecd390d4-59ef-488d-ba86-fe45b5607e1a",
   "metadata": {},
   "outputs": [],
   "source": [
    "import pymongo                            # Library to access MongoDB\n",
    "from pymongo import MongoClient           # Imports MongoClient \n",
    "import pandas as pd                       # Library to work with dataframes\n",
    "import folium                             # Library to create the map\n",
    "from folium import plugins                # plugin to create a heatmap\n",
    "import seaborn as sns\n",
    "import numpy as np\n",
    "from tqdm import tqdm\n",
    "import time\n",
    "import matplotlib.pyplot as plt\n",
    "import re"
   ]
  },
  {
   "cell_type": "code",
   "execution_count": 2,
   "id": "f43461bd-fda4-468d-a292-6c2fecda60cb",
   "metadata": {},
   "outputs": [],
   "source": [
    "# uri (uniform resource identifier) defines the connection parameters \n",
    "uri = 'mongodb://127.0.0.1:27017'\n",
    "# start client to connect to MongoDB server \n",
    "client = MongoClient( uri )\n",
    "db = client.JiraRepos"
   ]
  },
  {
   "cell_type": "markdown",
   "id": "fb2e12b9-0fcc-452f-95ed-3710fe700120",
   "metadata": {},
   "source": [
    "# Functions"
   ]
  },
  {
   "cell_type": "code",
   "execution_count": 3,
   "id": "4217f700-49ae-4779-91d2-8e4302b26ef1",
   "metadata": {},
   "outputs": [],
   "source": [
    "def lexicon_to_array():\n",
    "    lexicon = pd.read_csv('Harassment Lexicon.csv')\n",
    "    arr = lexicon.fillna('').astype(str).values.flatten().tolist()\n",
    "    # Ditch some words here with special characters.\n",
    "    return [i for i in arr if i and not re.search(\"[()*!?]\", i)]\n",
    "\n",
    "def lexicon_to_space_delimited():\n",
    "    return \" \".join(lexicon_to_array())"
   ]
  },
  {
   "cell_type": "code",
   "execution_count": 22,
   "id": "e634f6df-dad1-4d4f-8950-6e02964838b2",
   "metadata": {},
   "outputs": [
    {
     "data": {
      "text/html": [
       "<div>\n",
       "<style scoped>\n",
       "    .dataframe tbody tr th:only-of-type {\n",
       "        vertical-align: middle;\n",
       "    }\n",
       "\n",
       "    .dataframe tbody tr th {\n",
       "        vertical-align: top;\n",
       "    }\n",
       "\n",
       "    .dataframe thead th {\n",
       "        text-align: right;\n",
       "    }\n",
       "</style>\n",
       "<table border=\"1\" class=\"dataframe\">\n",
       "  <thead>\n",
       "    <tr style=\"text-align: right;\">\n",
       "      <th></th>\n",
       "      <th>_id</th>\n",
       "      <th>firstCommentDate</th>\n",
       "      <th>lastCommentDate</th>\n",
       "      <th>numComments</th>\n",
       "      <th>numToxicComments</th>\n",
       "      <th>activeness</th>\n",
       "      <th>toxicity</th>\n",
       "    </tr>\n",
       "  </thead>\n",
       "  <tbody>\n",
       "    <tr>\n",
       "      <th>0</th>\n",
       "      <td>gez.linden</td>\n",
       "      <td>2009-12-22 00:09:41.000</td>\n",
       "      <td>2009-12-22 00:09:41.000</td>\n",
       "      <td>1</td>\n",
       "      <td>0</td>\n",
       "      <td>0.000000e+00</td>\n",
       "      <td>0.000000</td>\n",
       "    </tr>\n",
       "    <tr>\n",
       "      <th>1</th>\n",
       "      <td>super1</td>\n",
       "      <td>2011-03-04 05:44:49.434</td>\n",
       "      <td>2011-03-04 05:44:49.434</td>\n",
       "      <td>1</td>\n",
       "      <td>0</td>\n",
       "      <td>0.000000e+00</td>\n",
       "      <td>0.000000</td>\n",
       "    </tr>\n",
       "    <tr>\n",
       "      <th>2</th>\n",
       "      <td>chorazin.allen</td>\n",
       "      <td>2019-03-01 15:40:20.658</td>\n",
       "      <td>2019-03-04 15:09:03.570</td>\n",
       "      <td>4</td>\n",
       "      <td>3</td>\n",
       "      <td>6.433073e+07</td>\n",
       "      <td>0.750000</td>\n",
       "    </tr>\n",
       "    <tr>\n",
       "      <th>3</th>\n",
       "      <td>leal.choche</td>\n",
       "      <td>2010-12-27 19:09:13.786</td>\n",
       "      <td>2010-12-27 19:09:13.786</td>\n",
       "      <td>1</td>\n",
       "      <td>0</td>\n",
       "      <td>0.000000e+00</td>\n",
       "      <td>0.000000</td>\n",
       "    </tr>\n",
       "    <tr>\n",
       "      <th>4</th>\n",
       "      <td>ansariel.hiller</td>\n",
       "      <td>2011-03-15 21:57:27.971</td>\n",
       "      <td>2018-06-19 19:48:10.956</td>\n",
       "      <td>93</td>\n",
       "      <td>53</td>\n",
       "      <td>2.464639e+09</td>\n",
       "      <td>0.569892</td>\n",
       "    </tr>\n",
       "  </tbody>\n",
       "</table>\n",
       "</div>"
      ],
      "text/plain": [
       "               _id        firstCommentDate         lastCommentDate  \\\n",
       "0       gez.linden 2009-12-22 00:09:41.000 2009-12-22 00:09:41.000   \n",
       "1           super1 2011-03-04 05:44:49.434 2011-03-04 05:44:49.434   \n",
       "2   chorazin.allen 2019-03-01 15:40:20.658 2019-03-04 15:09:03.570   \n",
       "3      leal.choche 2010-12-27 19:09:13.786 2010-12-27 19:09:13.786   \n",
       "4  ansariel.hiller 2011-03-15 21:57:27.971 2018-06-19 19:48:10.956   \n",
       "\n",
       "   numComments  numToxicComments    activeness  toxicity  \n",
       "0            1                 0  0.000000e+00  0.000000  \n",
       "1            1                 0  0.000000e+00  0.000000  \n",
       "2            4                 3  6.433073e+07  0.750000  \n",
       "3            1                 0  0.000000e+00  0.000000  \n",
       "4           93                53  2.464639e+09  0.569892  "
      ]
     },
     "execution_count": 22,
     "metadata": {},
     "output_type": "execute_result"
    }
   ],
   "source": [
    "cursor = db.SecondLife.aggregate([\n",
    "    { \"$match\": { \"fields.comments\": { \"$exists\": True, \"$ne\": [] }}},\n",
    "    { \"$replaceWith\": { \"comments\": \"$fields.comments\" }},\n",
    "    { \"$unwind\": { \"path\": \"$comments\" }},\n",
    "    { \"$replaceRoot\": { \"newRoot\": \"$comments\" }},\n",
    "    { \"$group\": {\n",
    "        \"_id\": \"$author.key\",\n",
    "        \"firstCommentDate\": {\n",
    "            \"$min\": { \"$dateFromString\": { \"dateString\": \"$created\" } }\n",
    "        },\n",
    "        \"lastCommentDate\": {\n",
    "            \"$max\": { \"$dateFromString\": { \"dateString\": \"$created\" } }\n",
    "        },\n",
    "        \"numComments\": { \"$count\": {} },\n",
    "        \"numToxicComments\": {\n",
    "            \"$sum\": {\n",
    "                \"$toInt\": {\n",
    "                    \"$regexMatch\": {\n",
    "                        \"input\": \"$body\",\n",
    "                        \"regex\": \"/\" + \"|\".join(lexicon_to_array()) + \"/\",\n",
    "                        \"options\": \"i\"\n",
    "                    }\n",
    "                }\n",
    "            }\n",
    "        }\n",
    "#        \"comments\": { \"$addToSet\": \"$body\" }\n",
    "    }},\n",
    "    { \"$addFields\": {\n",
    "        \"activeness\": {\n",
    "            \"$divide\": [\n",
    "                { \"$subtract\": [\"$lastCommentDate\", \"$firstCommentDate\"] },\n",
    "                \"$numComments\"\n",
    "            ]\n",
    "        },\n",
    "        \"toxicity\": {\n",
    "           \"$divide\": [\"$numToxicComments\", \"$numComments\"]\n",
    "        }\n",
    "    }}\n",
    "])\n",
    "\n",
    "df = pd.DataFrame(list(cursor))\n",
    "df.head()"
   ]
  },
  {
   "cell_type": "code",
   "execution_count": 23,
   "id": "803db688-b353-4ca7-ba36-c2b4c13db618",
   "metadata": {},
   "outputs": [
    {
     "data": {
      "text/plain": [
       "<AxesSubplot:xlabel='activeness', ylabel='toxicity'>"
      ]
     },
     "execution_count": 23,
     "metadata": {},
     "output_type": "execute_result"
    },
    {
     "data": {
      "image/png": "[encoded data removed]",
      "text/plain": [
       "<Figure size 432x288 with 1 Axes>"
      ]
     },
     "metadata": {
      "needs_background": "light"
     },
     "output_type": "display_data"
    }
   ],
   "source": [
    "sns.scatterplot(data=df, x=\"activeness\", y=\"toxicity\")"
   ]
  }
 ],
 "metadata": {
  "kernelspec": {
   "display_name": "Python 3 (ipykernel)",
   "language": "python",
   "name": "python3"
  },
  "language_info": {
   "codemirror_mode": {
    "name": "ipython",
    "version": 3
   },
   "file_extension": ".py",
   "mimetype": "text/x-python",
   "name": "python",
   "nbconvert_exporter": "python",
   "pygments_lexer": "ipython3",
   "version": "3.9.15"
  }
 },
 "nbformat": 4,
 "nbformat_minor": 5
}
