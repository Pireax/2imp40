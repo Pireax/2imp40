{
 "cells": [
  {
   "cell_type": "code",
   "execution_count": 3,
   "id": "ecd390d4-59ef-488d-ba86-fe45b5607e1a",
   "metadata": {},
   "outputs": [],
   "source": [
    "import pymongo                            # Library to access MongoDB\n",
    "from pymongo import MongoClient           # Imports MongoClient \n",
    "import pandas as pd                       # Library to work with dataframes\n",
    "import folium                             # Library to create the map\n",
    "from folium import plugins                # plugin to create a heatmap\n",
    "import seaborn as sns\n",
    "import numpy as np\n",
    "from tqdm import tqdm\n",
    "import time\n",
    "import matplotlib.pyplot as plt\n",
    "import re"
   ]
  },
  {
   "cell_type": "code",
   "execution_count": 4,
   "id": "f43461bd-fda4-468d-a292-6c2fecda60cb",
   "metadata": {},
   "outputs": [],
   "source": [
    "# uri (uniform resource identifier) defines the connection parameters \n",
    "uri = 'mongodb://127.0.0.1:27017'\n",
    "# start client to connect to MongoDB server \n",
    "client = MongoClient( uri )\n",
    "db = client.JiraRepos"
   ]
  },
  {
   "cell_type": "markdown",
   "id": "fb2e12b9-0fcc-452f-95ed-3710fe700120",
   "metadata": {},
   "source": [
    "# Functions"
   ]
  },
  {
   "cell_type": "code",
   "execution_count": 5,
   "id": "4217f700-49ae-4779-91d2-8e4302b26ef1",
   "metadata": {},
   "outputs": [],
   "source": [
    "def lexicon_to_array():\n",
    "    lexicon = pd.read_csv('Harassment Lexicon.csv')\n",
    "    arr = lexicon.fillna('').astype(str).values.flatten().tolist()\n",
    "    # Ditch some words here with special characters.\n",
    "    return [i for i in arr if i and not re.search(\"[()*!?]\", i)]\n",
    "\n",
    "def lexicon_to_space_delimited():\n",
    "    return \" \".join(lexicon_to_array())"
   ]
  },
  {
   "cell_type": "code",
   "execution_count": 84,
   "id": "e634f6df-dad1-4d4f-8950-6e02964838b2",
   "metadata": {},
   "outputs": [
    {
     "name": "stderr",
     "output_type": "stream",
     "text": [
      "100%|██████████████████████████████████████████████████████████████████████████████████| 16/16 [03:13<00:00, 12.12s/it]\n"
     ]
    },
    {
     "data": {
      "text/html": [
       "<div>\n",
       "<style scoped>\n",
       "    .dataframe tbody tr th:only-of-type {\n",
       "        vertical-align: middle;\n",
       "    }\n",
       "\n",
       "    .dataframe tbody tr th {\n",
       "        vertical-align: top;\n",
       "    }\n",
       "\n",
       "    .dataframe thead th {\n",
       "        text-align: right;\n",
       "    }\n",
       "</style>\n",
       "<table border=\"1\" class=\"dataframe\">\n",
       "  <thead>\n",
       "    <tr style=\"text-align: right;\">\n",
       "      <th></th>\n",
       "      <th>_id</th>\n",
       "      <th>firstCommentDate</th>\n",
       "      <th>numComments</th>\n",
       "      <th>comments</th>\n",
       "      <th>activeness</th>\n",
       "      <th>numToxicComments</th>\n",
       "      <th>toxicity</th>\n",
       "    </tr>\n",
       "  </thead>\n",
       "  <tbody>\n",
       "    <tr>\n",
       "      <th>0</th>\n",
       "      <td>sueloverso</td>\n",
       "      <td>2014-05-07 18:29:10</td>\n",
       "      <td>8</td>\n",
       "      <td>[[~keithbostic] - does the logging/recovery co...</td>\n",
       "      <td>2.912364e-11</td>\n",
       "      <td>2</td>\n",
       "      <td>0.250000</td>\n",
       "    </tr>\n",
       "    <tr>\n",
       "      <th>1</th>\n",
       "      <td>scott.lhommedieu</td>\n",
       "      <td>2019-02-05 17:00:55</td>\n",
       "      <td>1</td>\n",
       "      <td>[filed TECHOPS-6671 to get some help]</td>\n",
       "      <td>8.013321e-12</td>\n",
       "      <td>0</td>\n",
       "      <td>0.000000</td>\n",
       "    </tr>\n",
       "    <tr>\n",
       "      <th>2</th>\n",
       "      <td>chenhao.qu</td>\n",
       "      <td>2020-03-03 08:39:12</td>\n",
       "      <td>49</td>\n",
       "      <td>[[~keith.bostic] I think the root cause is we ...</td>\n",
       "      <td>5.387368e-10</td>\n",
       "      <td>20</td>\n",
       "      <td>0.408163</td>\n",
       "    </tr>\n",
       "    <tr>\n",
       "      <th>3</th>\n",
       "      <td>asya</td>\n",
       "      <td>2014-10-18 00:01:03</td>\n",
       "      <td>18</td>\n",
       "      <td>[As of 3.4 it's possible to do this via $reduc...</td>\n",
       "      <td>6.907461e-11</td>\n",
       "      <td>8</td>\n",
       "      <td>0.444444</td>\n",
       "    </tr>\n",
       "    <tr>\n",
       "      <th>4</th>\n",
       "      <td>nick@innsenroute.com</td>\n",
       "      <td>2016-10-24 19:35:38</td>\n",
       "      <td>10</td>\n",
       "      <td>[...and after rebooting the MongoDb host, it a...</td>\n",
       "      <td>5.080255e-11</td>\n",
       "      <td>3</td>\n",
       "      <td>0.300000</td>\n",
       "    </tr>\n",
       "  </tbody>\n",
       "</table>\n",
       "</div>"
      ],
      "text/plain": [
       "                    _id     firstCommentDate  numComments  \\\n",
       "0            sueloverso  2014-05-07 18:29:10            8   \n",
       "1      scott.lhommedieu  2019-02-05 17:00:55            1   \n",
       "2            chenhao.qu  2020-03-03 08:39:12           49   \n",
       "3                  asya  2014-10-18 00:01:03           18   \n",
       "4  nick@innsenroute.com  2016-10-24 19:35:38           10   \n",
       "\n",
       "                                            comments    activeness  \\\n",
       "0  [[~keithbostic] - does the logging/recovery co...  2.912364e-11   \n",
       "1              [filed TECHOPS-6671 to get some help]  8.013321e-12   \n",
       "2  [[~keith.bostic] I think the root cause is we ...  5.387368e-10   \n",
       "3  [As of 3.4 it's possible to do this via $reduc...  6.907461e-11   \n",
       "4  [...and after rebooting the MongoDb host, it a...  5.080255e-11   \n",
       "\n",
       "   numToxicComments  toxicity  \n",
       "0                 2  0.250000  \n",
       "1                 0  0.000000  \n",
       "2                20  0.408163  \n",
       "3                 8  0.444444  \n",
       "4                 3  0.300000  "
      ]
     },
     "execution_count": 84,
     "metadata": {},
     "output_type": "execute_result"
    }
   ],
   "source": [
    "def aggregate_to_df(collection):\n",
    "    cursor = collection.aggregate([\n",
    "        { \"$sample\": { \"size\": 1000 } },\n",
    "        { \"$match\": { \"fields.comments\": { \"$exists\": True, \"$ne\": [] }}},\n",
    "        { \"$replaceWith\": { \"comments\": \"$fields.comments\" }},\n",
    "        { \"$unwind\": { \"path\": \"$comments\" }},\n",
    "        { \"$replaceRoot\": { \"newRoot\": \"$comments\" }},\n",
    "        { \"$group\": {\n",
    "            \"_id\": \"$author.key\",\n",
    "            \"firstCommentDate\": {\n",
    "                \"$min\": { \"$dateFromString\": { \"dateString\": \"$created\" } }\n",
    "            },\n",
    "            \"numComments\": { \"$count\": {} },\n",
    "            \"comments\": { \"$addToSet\": \"$body\" }\n",
    "        }},\n",
    "        { \"$addFields\": {\n",
    "            \"activeness\": {\n",
    "                \"$divide\": [\n",
    "                    \"$numComments\",\n",
    "                    { \"$subtract\": [\"$$NOW\", \"$firstCommentDate\"] },\n",
    "                ]\n",
    "            },\n",
    "            \"numToxicComments\": {\n",
    "                \"$reduce\": {\n",
    "                    \"input\": \"$comments\",\n",
    "                    \"initialValue\": 0,\n",
    "                    \"in\": {\n",
    "                        \"$add\": [\"$$value\", {\n",
    "                            \"$toInt\": {\n",
    "                                \"$regexMatch\": {\n",
    "                                    \"input\": \"$$this\",\n",
    "                                    \"regex\": \"/\" + \"|\".join(lexicon_to_array()) + \"/\",\n",
    "                                    \"options\": \"i\"\n",
    "                                }\n",
    "                            }\n",
    "                        }]\n",
    "                    }\n",
    "                }\n",
    "            }\n",
    "        }}, { \"$addFields\": {\n",
    "            \"toxicity\": {\n",
    "                \"$divide\": [\"$numToxicComments\", \"$numComments\"]\n",
    "            }\n",
    "        }}\n",
    "    ])\n",
    "    df = pd.DataFrame(list(cursor))\n",
    "    return df\n",
    "\n",
    "merged_df = None\n",
    "\n",
    "collections = db.list_collection_names()\n",
    "progress_bar = tqdm(collections)\n",
    "for collection in progress_bar:\n",
    "    df = aggregate_to_df(db[collection])\n",
    "    if merged_df is None:\n",
    "        merged_df = df\n",
    "    else:\n",
    "        merged_df = pd.concat([merged_df, df], axis=0)\n",
    "\n",
    "merged_df.head()"
   ]
  },
  {
   "cell_type": "code",
   "execution_count": 85,
   "id": "f8d75701-788d-40e6-b907-98754d4f0762",
   "metadata": {},
   "outputs": [],
   "source": [
    "merged_df = merged_df.reset_index()"
   ]
  },
  {
   "cell_type": "code",
   "execution_count": 86,
   "id": "8deb2d0e-ddf8-410a-99bb-80f79792945c",
   "metadata": {},
   "outputs": [],
   "source": [
    "merged_df_adj = merged_df[(merged_df[\"numComments\"] > 10)]"
   ]
  },
  {
   "cell_type": "code",
   "execution_count": 87,
   "id": "72e14620-dbcc-4a86-a13f-942a9a27dc59",
   "metadata": {},
   "outputs": [
    {
     "data": {
      "text/plain": [
       "<seaborn.axisgrid.FacetGrid at 0x283adceb190>"
      ]
     },
     "execution_count": 87,
     "metadata": {},
     "output_type": "execute_result"
    },
    {
     "data": {
      "image/png": "[encoded data removed]",
      "text/plain": [
       "<Figure size 360x360 with 1 Axes>"
      ]
     },
     "metadata": {
      "needs_background": "light"
     },
     "output_type": "display_data"
    }
   ],
   "source": [
    "sns.displot(merged_df_adj, x=\"activeness\")"
   ]
  },
  {
   "cell_type": "code",
   "execution_count": 88,
   "id": "b010cbfb-7db5-4b00-9ded-52e99cb3bef5",
   "metadata": {},
   "outputs": [
    {
     "data": {
      "text/plain": [
       "<seaborn.axisgrid.FacetGrid at 0x283af87c8b0>"
      ]
     },
     "execution_count": 88,
     "metadata": {},
     "output_type": "execute_result"
    },
    {
     "data": {
      "image/png": "[encoded data removed]",
      "text/plain": [
       "<Figure size 360x360 with 1 Axes>"
      ]
     },
     "metadata": {
      "needs_background": "light"
     },
     "output_type": "display_data"
    }
   ],
   "source": [
    "sns.displot(merged_df_adj, x=\"toxicity\")"
   ]
  },
  {
   "cell_type": "code",
   "execution_count": 92,
   "id": "803db688-b353-4ca7-ba36-c2b4c13db618",
   "metadata": {},
   "outputs": [
    {
     "data": {
      "text/plain": [
       "<AxesSubplot:xlabel='activeness', ylabel='toxicity'>"
      ]
     },
     "execution_count": 92,
     "metadata": {},
     "output_type": "execute_result"
    },
    {
     "data": {
      "image/png": "[encoded data removed]",
      "text/plain": [
       "<Figure size 432x288 with 1 Axes>"
      ]
     },
     "metadata": {
      "needs_background": "light"
     },
     "output_type": "display_data"
    }
   ],
   "source": [
    "sns.scatterplot(data=merged_df_adj[merged_df_adj[\"activeness\"] < 0.251e8], x=\"activeness\", y=\"toxicity\")"
   ]
  },
  {
   "cell_type": "code",
   "execution_count": null,
   "id": "a203cd88-80b5-46ad-badf-22b204b1b79c",
   "metadata": {},
   "outputs": [],
   "source": []
  }
 ],
 "metadata": {
  "kernelspec": {
   "display_name": "Python 3 (ipykernel)",
   "language": "python",
   "name": "python3"
  },
  "language_info": {
   "codemirror_mode": {
    "name": "ipython",
    "version": 3
   },
   "file_extension": ".py",
   "mimetype": "text/x-python",
   "name": "python",
   "nbconvert_exporter": "python",
   "pygments_lexer": "ipython3",
   "version": "3.9.15"
  }
 },
 "nbformat": 4,
 "nbformat_minor": 5
}
