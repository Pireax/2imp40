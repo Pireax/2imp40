{
 "cells": [
  {
   "cell_type": "code",
   "execution_count": 1,
   "id": "ecd390d4-59ef-488d-ba86-fe45b5607e1a",
   "metadata": {},
   "outputs": [],
   "source": [
    "import pandas as pd"
   ]
  },
  {
   "cell_type": "code",
   "execution_count": 2,
   "id": "f43461bd-fda4-468d-a292-6c2fecda60cb",
   "metadata": {},
   "outputs": [
    {
     "data": {
      "text/html": [
       "<div>\n",
       "<style scoped>\n",
       "    .dataframe tbody tr th:only-of-type {\n",
       "        vertical-align: middle;\n",
       "    }\n",
       "\n",
       "    .dataframe tbody tr th {\n",
       "        vertical-align: top;\n",
       "    }\n",
       "\n",
       "    .dataframe thead th {\n",
       "        text-align: right;\n",
       "    }\n",
       "</style>\n",
       "<table border=\"1\" class=\"dataframe\">\n",
       "  <thead>\n",
       "    <tr style=\"text-align: right;\">\n",
       "      <th></th>\n",
       "      <th>Sexual</th>\n",
       "      <th>Racial</th>\n",
       "      <th>Appearance</th>\n",
       "      <th>Intelligence</th>\n",
       "      <th>Politics</th>\n",
       "      <th>Generic</th>\n",
       "    </tr>\n",
       "  </thead>\n",
       "  <tbody>\n",
       "    <tr>\n",
       "      <th>0</th>\n",
       "      <td>amateur</td>\n",
       "      <td>abbo</td>\n",
       "      <td>alla</td>\n",
       "      <td>cockbite</td>\n",
       "      <td>anal</td>\n",
       "      <td>assbite</td>\n",
       "    </tr>\n",
       "    <tr>\n",
       "      <th>1</th>\n",
       "      <td>AnalAnnie</td>\n",
       "      <td>abo</td>\n",
       "      <td>big ass</td>\n",
       "      <td>Cockmuncher</td>\n",
       "      <td>anus</td>\n",
       "      <td>asscock</td>\n",
       "    </tr>\n",
       "    <tr>\n",
       "      <th>2</th>\n",
       "      <td>Angie</td>\n",
       "      <td>African Forklift</td>\n",
       "      <td>camel toe</td>\n",
       "      <td>demon</td>\n",
       "      <td>arse</td>\n",
       "      <td>asses</td>\n",
       "    </tr>\n",
       "    <tr>\n",
       "      <th>3</th>\n",
       "      <td>Aroused</td>\n",
       "      <td>Alligator Bait</td>\n",
       "      <td>Chesticles</td>\n",
       "      <td>demonrats</td>\n",
       "      <td>asian</td>\n",
       "      <td>assface</td>\n",
       "    </tr>\n",
       "    <tr>\n",
       "      <th>4</th>\n",
       "      <td>assblaster</td>\n",
       "      <td>arab</td>\n",
       "      <td>cock waffle</td>\n",
       "      <td>dickwad</td>\n",
       "      <td>ass-hat</td>\n",
       "      <td>asshat</td>\n",
       "    </tr>\n",
       "  </tbody>\n",
       "</table>\n",
       "</div>"
      ],
      "text/plain": [
       "       Sexual            Racial   Appearance Intelligence Politics  Generic\n",
       "0     amateur              abbo         alla     cockbite     anal  assbite\n",
       "1   AnalAnnie               abo      big ass  Cockmuncher     anus  asscock\n",
       "2       Angie  African Forklift    camel toe        demon     arse    asses\n",
       "3     Aroused    Alligator Bait   Chesticles    demonrats    asian  assface\n",
       "4  assblaster              arab  cock waffle      dickwad  ass-hat   asshat"
      ]
     },
     "execution_count": 2,
     "metadata": {},
     "output_type": "execute_result"
    }
   ],
   "source": [
    "df = pd.read_csv('Harassment Lexicon.csv')\n",
    "df.head()"
   ]
  }
 ],
 "metadata": {
  "kernelspec": {
   "display_name": "Python 3 (ipykernel)",
   "language": "python",
   "name": "python3"
  },
  "language_info": {
   "codemirror_mode": {
    "name": "ipython",
    "version": 3
   },
   "file_extension": ".py",
   "mimetype": "text/x-python",
   "name": "python",
   "nbconvert_exporter": "python",
   "pygments_lexer": "ipython3",
   "version": "3.10.8"
  }
 },
 "nbformat": 4,
 "nbformat_minor": 5
}
